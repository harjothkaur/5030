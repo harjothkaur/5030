{
 "cells": [
  {
   "cell_type": "code",
   "execution_count": 4,
   "id": "f83b1949",
   "metadata": {},
   "outputs": [
    {
     "name": "stdout",
     "output_type": "stream",
     "text": [
      "Test case failed. Expected \"nõg\" when lowercasing \"nÕg\" in language \"ga-IE\" but got \"n-õg\".\n",
      "Test case failed. Expected \"kasım\" when lowercasing \"KASIM\" in language \"tr\" but got \"KASıM\".\n",
      "Test case failed. Expected \"πόλης\" when lowercasing \"ΠΌΛΗΣ\" in language \"el\" but got \"ΠΌΛΗς\".\n",
      "passed\n",
      "passed\n"
     ]
    },
    {
     "ename": "AssertionError",
     "evalue": "Test case failed",
     "output_type": "error",
     "traceback": [
      "\u001b[1;31m---------------------------------------------------------------------------\u001b[0m",
      "\u001b[1;31mAssertionError\u001b[0m                            Traceback (most recent call last)",
      "\u001b[1;32m~\\AppData\\Local\\Temp\\ipykernel_3056\\1048700539.py\u001b[0m in \u001b[0;36m<module>\u001b[1;34m\u001b[0m\n\u001b[0;32m     53\u001b[0m \u001b[0mprint\u001b[0m\u001b[1;33m(\u001b[0m\u001b[1;34m\"passed\"\u001b[0m\u001b[1;33m)\u001b[0m\u001b[1;33m\u001b[0m\u001b[1;33m\u001b[0m\u001b[0m\n\u001b[0;32m     54\u001b[0m \u001b[1;33m\u001b[0m\u001b[0m\n\u001b[1;32m---> 55\u001b[1;33m \u001b[1;32massert\u001b[0m \u001b[0mlc\u001b[0m \u001b[1;33m(\u001b[0m\u001b[1;34m\"HELLO-WORLD\"\u001b[0m\u001b[1;33m,\u001b[0m \u001b[1;34m\"en\"\u001b[0m\u001b[1;33m)\u001b[0m \u001b[1;33m==\u001b[0m \u001b[1;34m\"hello world\"\u001b[0m\u001b[1;33m,\u001b[0m \u001b[1;34m\"Test case failed\"\u001b[0m\u001b[1;33m\u001b[0m\u001b[1;33m\u001b[0m\u001b[0m\n\u001b[0m\u001b[0;32m     56\u001b[0m \u001b[0mprint\u001b[0m\u001b[1;33m(\u001b[0m\u001b[1;34m\"passed\"\u001b[0m\u001b[1;33m)\u001b[0m\u001b[1;33m\u001b[0m\u001b[1;33m\u001b[0m\u001b[0m\n\u001b[0;32m     57\u001b[0m \u001b[1;33m\u001b[0m\u001b[0m\n",
      "\u001b[1;31mAssertionError\u001b[0m: Test case failed"
     ]
    }
   ],
   "source": [
    "import unicodedata\n",
    "\n",
    "def lc (word, language):\n",
    "\n",
    "    # Check if language is Chinese, Japanese, or Thai, and return original word unchanged.\n",
    "    if language.startswith(\"zh\") or language.startswith(\"ja\") or language.startswith(\"th\"):\n",
    "        return word\n",
    "\n",
    "    # Check if language is Turkish or Azerbaijani and replace 'I' with 'ı'.\n",
    "    if language.startswith(\"tr\") or language.startswith(\"az\"):\n",
    "        return word.replace(\"I\", \"ı\")\n",
    "\n",
    "    # Check if language is Irish and insert hyphen in specific cases.\n",
    "    if language.startswith(\"ga\"):\n",
    "        if word.startswith(\"n\"):\n",
    "            next_letter = word[1:2]\n",
    "            if next_letter in (\"A\", \"E\", \"I\", \"O\", \"U\", \"Á\", \"É\", \"Í\", \"Ó\", \"Ú\"):\n",
    "                return \"n-\" + word[1:].lower()\n",
    "        elif word.startswith(\"t\"):\n",
    "            next_letter = word[1:2]\n",
    "            if next_letter in (\"A\", \"E\", \"I\", \"O\", \"U\", \"Á\", \"É\", \"Í\", \"Ó\", \"Ú\"):\n",
    "                return \"t-\" + word[1:].lower()\n",
    "\n",
    "    # Check if language is modern Greek and handle final sigma.\n",
    "    if language.startswith(\"el\"):\n",
    "        if word.endswith(\"Σ\") or word.endswith(\"ς\"):\n",
    "            return word[:-1] + \"ς\"\n",
    "\n",
    "    # Check if language is English and handle en-Latn\n",
    "    if language.startswith(\"en\") and language.endswith(\"-Latn\"):\n",
    "        return word.lower()\n",
    "\n",
    "    # Check if language is Thai and handle th\n",
    "    if language == \"th\":\n",
    "        return word\n",
    "\n",
    "    # For all other cases, simply use the built-in lower() method.\n",
    "    return word.lower()\n",
    "\n",
    "with open('tests.tsv', encoding=\"utf8\") as f:\n",
    "      for line in f:\n",
    "        word, language, expected = line.strip().split('\\t')\n",
    "        actual = lc(word, language)\n",
    "        #actual = actual.islower()\n",
    "        if actual != expected:\n",
    "            print(f'Test case failed. Expected \"{expected}\" when lowercasing \"{word}\" in language \"{language}\" but got \"{actual}\".')\n",
    "            \n",
    "#Testing            \n",
    "assert lc (\"你好\", \"zh-CN\") == \"你好\", \"Test case failed\"\n",
    "print(\"passed\")\n",
    "\n",
    "assert lc(\"WORLD\", \"eng\") == \"world\", \"Test case failed\"\n",
    "print(\"passed\")\n",
    "\n",
    "assert lc (\"HELLO-WORLD\", \"en\") == \"hello world\", \"Test case failed\"\n",
    "print(\"passed\")\n",
    "\n",
    "assert lc(\"官话\", \"zh-Hans\") == \"官话\", \"Test case failed\"\n",
    "print(\"passed\")\n",
    "\n",
    "assert lc(\"nÕg\", \"ga-IE\") == \"nõg\", \"Test case failed\"\n",
    "print(\"passed\")\n"
   ]
  },
  {
   "cell_type": "code",
   "execution_count": null,
   "id": "67c97a31",
   "metadata": {},
   "outputs": [],
   "source": []
  }
 ],
 "metadata": {
  "kernelspec": {
   "display_name": "Python 3 (ipykernel)",
   "language": "python",
   "name": "python3"
  },
  "language_info": {
   "codemirror_mode": {
    "name": "ipython",
    "version": 3
   },
   "file_extension": ".py",
   "mimetype": "text/x-python",
   "name": "python",
   "nbconvert_exporter": "python",
   "pygments_lexer": "ipython3",
   "version": "3.9.13"
  }
 },
 "nbformat": 4,
 "nbformat_minor": 5
}
